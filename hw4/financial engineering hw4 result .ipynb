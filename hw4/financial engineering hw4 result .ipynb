{
 "cells": [
  {
   "cell_type": "markdown",
   "metadata": {},
   "source": [
    "A stock is currently priced at $75 and has a σ of 0.35.\n",
    "It will pay two $1 dividends in 1 month and 4 months.\n",
    "If r = 6%, what is the value of a European put and call option with an exercise 8 price of $65 maturing in 6 months?"
   ]
  },
  {
   "cell_type": "code",
   "execution_count": 1,
   "metadata": {
    "scrolled": false
   },
   "outputs": [
    {
     "name": "stdout",
     "output_type": "stream",
     "text": [
      "stock price:75\n",
      "sigma in decimal:0.35\n",
      "pay dividend how many times:2\n",
      "pay dividend amount:1\n",
      "risk free rate in decimal:0.06\n",
      "exercise price:65\n",
      "maturity in how many months:6\n",
      "dividend : 1.9752118924136712\n",
      "estimated stock price:  73.02478810758633\n",
      "d1: 0.7153361979190508 d2: 0.46784882450375914\n",
      "put value : 2.8603730418152793\n",
      "call value : -2.8603730418152793\n"
     ]
    }
   ],
   "source": [
    "import math\n",
    "import numpy as np\n",
    "from scipy import stats\n",
    "\n",
    "stock_price = int(input(\"stock price:\",)) #75\n",
    "sigma = float(input(\"sigma in decimal:\",)) #0.35\n",
    "pay_div_num_per_year = int(input(\"pay dividend how many times:\",)) #2\n",
    "pay_div_amt = int(input(\"pay dividend amount:\",)) #1\n",
    "risk_free_rate = float(input(\"risk free rate in decimal:\",)) #0.06\n",
    "exercise_price = int(input(\"exercise price:\",)) #65\n",
    "maturity_yr = int(input(\"maturity in how many months:\",)) #6\n",
    "dividend = 1\n",
    "e = 2.7182\n",
    "\n",
    "#count dividend\n",
    "if pay_div_num_per_year == 1:\n",
    "    dividend = pay_div_amt*e**(risk_free_rate*(-1/12))\n",
    "    print(\"dividend :\",dividend)\n",
    "elif pay_div_num_per_year == 2:\n",
    "    dividend = pay_div_amt*e**(risk_free_rate*(-1/12)) + pay_div_amt*e**(risk_free_rate*(-4/12))\n",
    "    print(\"dividend :\",dividend)\n",
    "elif pay_div_num_per_year == 3:\n",
    "    dividend = pay_div_amt*e**(risk_free_rate*(-1/12)) + pay_div_amt*e**(risk_free_rate*(-4/12)) + pay_div_amt*e**(risk_free_rate*(-7/12))\n",
    "    print(\"dividend :\",dividend)\n",
    "elif pay_div_num_per_year == 4:\n",
    "    dividend = pay_div_amt*e**(risk_free_rate*(-1/12)) + pay_div_amt*e**(risk_free_rate*(-4/12)) + pay_div_amt*e**(risk_free_rate*(-7/12)) + pay_div_amt*e**(risk_free_rate*(-10/12))\n",
    "else:\n",
    "    print(\"out of range\")\n",
    "\n",
    "#estimate stock price\n",
    "estimated_stock_price = stock_price - dividend\n",
    "print(\"estimated stock price: \",estimated_stock_price)\n",
    "\n",
    "#d1,d2\n",
    "d1 = (np.log(estimated_stock_price/exercise_price) + (risk_free_rate + 0.5*sigma**2)*(maturity_yr/12))/(sigma*((maturity_yr/12)**(1/2)))\n",
    "d2 = d1 - sigma*((maturity_yr/12)**(1/2))\n",
    "print(\"d1:\",d1,\"d2:\",d2)\n",
    "\n",
    "\n",
    "#put and call value, using put-call parity\n",
    "call = estimated_stock_price * (1-stats.norm.cdf(d1,0.0,1.0)) - exercise_price * e**(-risk_free_rate*(maturity_yr/12)) * (1-stats.norm.cdf(d2,0.0,1.0))\n",
    "put = exercise_price *e**(-risk_free_rate*(maturity_yr/12)) * (1-stats.norm.cdf(d2,0.0,1.0)) - estimated_stock_price * (1-stats.norm.cdf(d1,0.0,1.0))\n",
    "\n",
    "print(\"put value :\",put)\n",
    "print(\"call value :\",call)\n"
   ]
  },
  {
   "cell_type": "code",
   "execution_count": null,
   "metadata": {},
   "outputs": [],
   "source": []
  },
  {
   "cell_type": "code",
   "execution_count": null,
   "metadata": {},
   "outputs": [],
   "source": []
  }
 ],
 "metadata": {
  "kernelspec": {
   "display_name": "Python 3",
   "language": "python",
   "name": "python3"
  },
  "language_info": {
   "codemirror_mode": {
    "name": "ipython",
    "version": 3
   },
   "file_extension": ".py",
   "mimetype": "text/x-python",
   "name": "python",
   "nbconvert_exporter": "python",
   "pygments_lexer": "ipython3",
   "version": "3.7.3"
  }
 },
 "nbformat": 4,
 "nbformat_minor": 4
}
